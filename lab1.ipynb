{
 "cells": [
  {
   "cell_type": "code",
   "execution_count": 2,
   "metadata": {},
   "outputs": [
    {
     "name": "stdout",
     "output_type": "stream",
     "text": [
      "Hi, my name is  John\n",
      "I am a  John\n"
     ]
    }
   ],
   "source": [
    "class Employee:\n",
    "    def __init__(self, name: str, role: str) -> None:\n",
    "        self.name = name\n",
    "        self.role = role\n",
    "    def say_hi(self):\n",
    "        print(\"Hi, my name is \", self.name)\n",
    "        \n",
    "    def tell_position(self):\n",
    "        print(\"I am a \", self.name)\n",
    "\n",
    "john = Employee(\"John\", \"Software Engineer\")\n",
    "john.say_hi()\n",
    "john.tell_position()"
   ]
  },
  {
   "cell_type": "code",
   "execution_count": 4,
   "metadata": {},
   "outputs": [
    {
     "name": "stdout",
     "output_type": "stream",
     "text": [
      "=> Invalid!\n"
     ]
    }
   ],
   "source": [
    "class Rectangle:\n",
    "    def __init__(self, height, width):\n",
    "        self.height = height\n",
    "        self.width = width\n",
    "\n",
    "    def calculate_perimeter(self):\n",
    "        return (self.height + self.width)*2\n",
    "\n",
    "    def calculate_area(self):\n",
    "        return self.height * self.width\n",
    "\n",
    "\n",
    "class Circle:\n",
    "    PI = 3.14\n",
    "\n",
    "    def __init__(self, radius):\n",
    "        self.radius = radius\n",
    "\n",
    "    def calculate_perimeter(self):\n",
    "        return 2 * self.PI * self.radius\n",
    "\n",
    "    def calculate_area(self):\n",
    "        return self.PI * self.radius**2\n",
    "\n",
    "\n",
    "shape_name = input('Shape (rectangle|circle): ')\n",
    "\n",
    "shape = None\n",
    "\n",
    "if shape_name == 'rectangle':\n",
    "    height = float(input('Height: '))\n",
    "    width = float(input('Width: '))\n",
    "    shape = Rectangle(height, width)\n",
    "elif shape_name == 'circle':\n",
    "    radius = float(input('Radius: '))\n",
    "    shape = Circle(radius)\n",
    "else:\n",
    "    print('=> Invalid!')\n",
    "\n",
    "if shape:\n",
    "    print('\\n=> Perimeter:', shape.calculate_perimeter())\n",
    "    print('=> Area:', shape.calculate_area())"
   ]
  },
  {
   "cell_type": "code",
   "execution_count": 5,
   "metadata": {},
   "outputs": [
    {
     "name": "stdout",
     "output_type": "stream",
     "text": [
      "15/07/2023\n",
      "22:02:14\n"
     ]
    }
   ],
   "source": [
    "from datetime import datetime\n",
    "\n",
    "\n",
    "class CustomDate():\n",
    "    def __init__(self):\n",
    "        self.time = datetime.now()\n",
    "\n",
    "    def get_date(self):\n",
    "        return self.time.strftime(\"%d/%m/%Y\")\n",
    "\n",
    "    def get_time(self):\n",
    "        return self.time.strftime(\"%H:%M:%S\")\n",
    "\n",
    "\n",
    "now = CustomDate()\n",
    "print(now.get_date())\n",
    "print(now.get_time())"
   ]
  },
  {
   "cell_type": "code",
   "execution_count": 7,
   "metadata": {},
   "outputs": [
    {
     "name": "stdout",
     "output_type": "stream",
     "text": [
      "Start: 01/01/2021\n",
      "End: 01/01/2022\n",
      "Days between: 365\n"
     ]
    }
   ],
   "source": [
    "class DateHandler():\n",
    "  \n",
    "  @classmethod\n",
    "  def format_date(cls, time):\n",
    "    return time.strftime(\"%d/%m/%Y\")\n",
    "\n",
    "  @classmethod\n",
    "  def get_days_between(cls, time_start, time_end):\n",
    "    return (time_end - time_start).days\n",
    "\n",
    "\n",
    "from datetime import datetime\n",
    "\n",
    "start_date = datetime(2021, 1, 1)\n",
    "end_date = datetime(2022, 1, 1)\n",
    "\n",
    "print(\"Start:\", DateHandler.format_date(start_date))\n",
    "print(\"End:\", DateHandler.format_date(end_date))\n",
    "print(\"Days between:\",\n",
    "       DateHandler.get_days_between(start_date, end_date))"
   ]
  }
 ],
 "metadata": {
  "kernelspec": {
   "display_name": "Python 3",
   "language": "python",
   "name": "python3"
  },
  "language_info": {
   "codemirror_mode": {
    "name": "ipython",
    "version": 3
   },
   "file_extension": ".py",
   "mimetype": "text/x-python",
   "name": "python",
   "nbconvert_exporter": "python",
   "pygments_lexer": "ipython3",
   "version": "3.11.2"
  },
  "orig_nbformat": 4
 },
 "nbformat": 4,
 "nbformat_minor": 2
}
