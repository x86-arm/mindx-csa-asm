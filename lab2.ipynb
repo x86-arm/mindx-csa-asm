{
 "cells": [
  {
   "cell_type": "code",
   "execution_count": 5,
   "metadata": {},
   "outputs": [
    {
     "name": "stdout",
     "output_type": "stream",
     "text": [
      "Rectangle object with height = 2 and width = 1\n"
     ]
    }
   ],
   "source": [
    "class Rectangle:\n",
    "    def __init__(self, height, width):\n",
    "        self.height = height\n",
    "        self.width = width\n",
    "\n",
    "    def __str__(self):\n",
    "        return 'Rectangle object with height = %d and width = %d' % (self.height, self.width)\n",
    "\n",
    "    def calculate_perimeter(self):\n",
    "        return (self.height + self.width)*2\n",
    "\n",
    "    def calculate_area(self):\n",
    "        return self.height * self.width\n",
    "\n",
    "\n",
    "rect = Rectangle(2, 1)\n",
    "print(rect)"
   ]
  },
  {
   "cell_type": "code",
   "execution_count": 9,
   "metadata": {},
   "outputs": [
    {
     "name": "stdout",
     "output_type": "stream",
     "text": [
      "[1, 2, 3, 4, 5]\n",
      "[3, 4, 5, 6, 7]\n"
     ]
    }
   ],
   "source": [
    "class MathList:\n",
    "  def __init__(self, values):\n",
    "    self.values = values\n",
    "    self.length = len(values)\n",
    "\n",
    "  def __str__(self):\n",
    "    return str(self.values)\n",
    "\n",
    "  def __add__(self, value):\n",
    "    for i in range(self.length):\n",
    "      self.values[i] += value\n",
    "    return self\n",
    "\n",
    "  def __sub__(self, value):\n",
    "    for i in range(self.length):\n",
    "      self.values[i] -= value\n",
    "    return self\n",
    "\n",
    "\n",
    "m_list = MathList([1, 2, 3, 4, 5])\n",
    "print(m_list)\n",
    "\n",
    "m_list += 2\n",
    "print(m_list)"
   ]
  },
  {
   "cell_type": "code",
   "execution_count": 12,
   "metadata": {},
   "outputs": [
    {
     "name": "stdout",
     "output_type": "stream",
     "text": [
      "Square area: 4\n",
      "Cube area: 24\n",
      "Cube volume: 8\n"
     ]
    }
   ],
   "source": [
    "class Square:\n",
    "    def __init__(self, size):\n",
    "        self.size = size\n",
    "\n",
    "    def cal_area(self):\n",
    "        return self.size ** 2\n",
    "\n",
    "\n",
    "class Cube(Square):\n",
    "    def cal_area(self):\n",
    "        return 6 * self.size ** 2\n",
    "\n",
    "    def cal_volume(self):\n",
    "        return self.size ** 3\n",
    "\n",
    "\n",
    "square = Square(2)\n",
    "print('Square area:', square.cal_area())\n",
    "\n",
    "cube = Cube(2)\n",
    "print('Cube area:', cube.cal_area())\n",
    "print('Cube volume:', cube.cal_volume())"
   ]
  },
  {
   "cell_type": "code",
   "execution_count": 13,
   "metadata": {},
   "outputs": [
    {
     "name": "stdout",
     "output_type": "stream",
     "text": [
      "Welcome, mindx\n",
      "False\n",
      "Welcome, s_mindx\n",
      "True\n",
      "True\n"
     ]
    }
   ],
   "source": [
    "from datetime import datetime\n",
    "\n",
    "\n",
    "class User:\n",
    "    def __init__(self, username, password):\n",
    "        self.username = username\n",
    "        self.password = password\n",
    "\n",
    "    def welcome(self):\n",
    "        print('Welcome,', self.username)\n",
    "\n",
    "    def check_password(self, password):\n",
    "        return self.password == password\n",
    "\n",
    "\n",
    "class SubscribedUser(User):\n",
    "    def __init__(self, username, password, expired_date):\n",
    "        super().__init__(username, password)\n",
    "        self.expired_date = expired_date\n",
    "\n",
    "    def is_expired(self):\n",
    "        return datetime.now() > self.expired_date\n",
    "\n",
    "\n",
    "user = User('mindx', '12345')\n",
    "user.welcome()\n",
    "print(user.check_password('1234'))\n",
    "\n",
    "s_user = SubscribedUser('s_mindx', '1234', datetime(2021, 1, 1))\n",
    "s_user.welcome()\n",
    "\n",
    "print(s_user.check_password('1234'))\n",
    "print(s_user.is_expired())"
   ]
  }
 ],
 "metadata": {
  "kernelspec": {
   "display_name": "Python 3",
   "language": "python",
   "name": "python3"
  },
  "language_info": {
   "codemirror_mode": {
    "name": "ipython",
    "version": 3
   },
   "file_extension": ".py",
   "mimetype": "text/x-python",
   "name": "python",
   "nbconvert_exporter": "python",
   "pygments_lexer": "ipython3",
   "version": "3.11.2"
  },
  "orig_nbformat": 4
 },
 "nbformat": 4,
 "nbformat_minor": 2
}
